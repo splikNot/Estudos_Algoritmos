{
 "cells": [
  {
   "cell_type": "markdown",
   "id": "resistant-vulnerability",
   "metadata": {
    "id": "resistant-vulnerability"
   },
   "source": [
    "# PMR3201 Computação para Automação\n",
    "## EP2 - Árvores k-d"
   ]
  },
  {
   "cell_type": "markdown",
   "id": "lasting-corps",
   "metadata": {
    "id": "lasting-corps"
   },
   "source": [
    "### Nome: Raphael Cardoso de Almeida\n",
    "### NUSP: 11258120"
   ]
  },
  {
   "cell_type": "markdown",
   "id": "opposed-facial",
   "metadata": {
    "id": "opposed-facial"
   },
   "source": [
    "## Código base"
   ]
  },
  {
   "cell_type": "code",
   "execution_count": 1,
   "id": "9d60bdfd",
   "metadata": {
    "id": "9d60bdfd"
   },
   "outputs": [],
   "source": [
    "import math\n",
    "import matplotlib.pyplot as plt"
   ]
  },
  {
   "cell_type": "code",
   "execution_count": 2,
   "id": "metallic-capture",
   "metadata": {
    "id": "metallic-capture"
   },
   "outputs": [],
   "source": [
    "def ha_interseccao(minxa, maxxa, minya, maxya, minxb, maxxb, minyb, maxyb): # Tarefa 1: Verificacao de interseccao entre dois retangulos\n",
    "\n",
    "  if (maxxa < minxb or minxa > maxxb):\n",
    "    return False\n",
    "\n",
    "  if (maxya < minyb or minya > maxyb):\n",
    "    return False\n",
    "\n",
    "  return True\n",
    "\n",
    "\n",
    "def d2(x1, y1, x2, y2): #Função para calcular distância\n",
    "  return (x2 - x1) ** 2 + (y2 - y1) ** 2\n",
    "\n",
    "\n",
    "def imprimePonto(x, y): #Função auxiliar do Exercicio 2.\n",
    "  print(f\"Ponto encontrado: ({x}, {y})\")\n",
    "\n",
    "\n",
    "\n",
    "def ponto_ContidoRect(minx, maxx, miny, maxy, x, y): # Verificar se um ponto está contido em um retangulo\n",
    "\n",
    "  if (x >= minx and x <= maxx):\n",
    "    if (y >= miny and y <= maxy):\n",
    "      return True\n",
    "\n",
    "  return False\n",
    "\n",
    "\n",
    "def int_circ_rect(minx, maxx, miny, maxy, cx, cy, r2): # Verificar se há intersecção entre um retangulo e circulo.\n",
    "\n",
    "  #Verificando se o circulo está a direita ou a esquerda do retangulo\n",
    "  if cx < minx:\n",
    "    dx = minx - cx\n",
    "  elif cx > maxx:\n",
    "    dx = cx - maxx\n",
    "  else:\n",
    "    dx = 0\n",
    "\n",
    "  #Verificando se está acima ou abaixo\n",
    "  if cy < miny:\n",
    "    dy = miny - cy\n",
    "  elif cy > maxy:\n",
    "    dy = cy - maxy\n",
    "  else:\n",
    "    dy = 0\n",
    "\n",
    "  dist2 = dx**2 + dy**2 #Calculamos a distância ao quadrado, já que é pra evitar usar raizes\n",
    "\n",
    "  if dist2 < r2: #Há interseccao\n",
    "    return True\n",
    "  else:\n",
    "    return False\n",
    "\n",
    "class NoArvore2D:\n",
    "  \"\"\" Implementa um nó de árvore 2d (k-d bidimensional)\n",
    "  \"\"\"\n",
    "  def __init__(self, x, y):\n",
    "    \"\"\" Cria um novo nó. x e y são as coordenadas do nó.\n",
    "    \"\"\"\n",
    "    self._x = x       # Coordenada x\n",
    "    self._y = y       # Coordenada y\n",
    "    self._e = None    # Sub-árvore esquerda\n",
    "    self._d = None    # Sub-árvore direita\n",
    "\n",
    "  # Este é o método recursivo que faz a inserção de um novo nó\n",
    "  #  Ele é chamada pelo método insere\n",
    "  def _insere_rec(self, x, y, horizontal):\n",
    "    if (horizontal and self._x > x) or ((not horizontal) and self._y > y):\n",
    "      if self._e is None:\n",
    "        self._e = NoArvore2D(x, y)\n",
    "      else:\n",
    "        self._e._insere_rec(x, y, not horizontal)\n",
    "    else:\n",
    "      if self._d is None:\n",
    "        self._d = NoArvore2D(x, y)\n",
    "      else:\n",
    "        self._d._insere_rec(x, y, not horizontal)\n",
    "\n",
    "  def insere(self, x, y):\n",
    "    \"\"\" Insere um novo nó. x e y são as coordenadas do nó a ser inserido na\n",
    "    árvore.\"\"\"\n",
    "    self._insere_rec(x, y, True)\n",
    "\n",
    "  def busca_mais_proximo(self, x, y):\n",
    "    # Inicializa as variáveis do ponto mais próximo encontrado até então\n",
    "\n",
    "    #distancia_quadrado = d2(x, y, self._x, self._y)\n",
    "    limites = [[-math.inf,math.inf],[-math.inf,math.inf]]\n",
    "\n",
    "    # Chama o método auxiliar recursivo para encontrar o ponto mais próximo\n",
    "    ponto_mais_proximo, distancia_quadrado = self._busca_mais_proximo_rec(True, x, y, math.inf, math.inf, limites)\n",
    "\n",
    "    return ponto_mais_proximo, distancia_quadrado\n",
    "\n",
    "  def _busca_mais_proximo_rec(self,horizontal ,x, y, xp, yp, limites, distancia_quadrado = math.inf):\n",
    "    # Verifica se o nó atual está mais próximo do ponto do que o ponto encontrado até então\n",
    "    nova_distancia_quadrado = d2(x, y, self._x, self._y)\n",
    "    if nova_distancia_quadrado < distancia_quadrado:\n",
    "      xp, yp = self._x, self._y\n",
    "      distancia_quadrado = nova_distancia_quadrado\n",
    "\n",
    "        # Determina em qual subárvore o ponto desejado seria inserido\n",
    "    if horizontal:\n",
    "      if x >= self._x:\n",
    "        subarvore_proxima = self._d\n",
    "        subarvore_distante = self._e\n",
    "\n",
    "        limites = [[self._x, limites[0][1]],[limites[1][0], limites[1][1]]]\n",
    "\n",
    "      else:\n",
    "        subarvore_proxima = self._e\n",
    "        subarvore_distante = self._d\n",
    "\n",
    "        limites = [[limites[0][0] ,self._x],[limites[1][0], limites[1][1]]]\n",
    "\n",
    "    else:\n",
    "      if y >= self._y:\n",
    "        subarvore_proxima = self._d\n",
    "        subarvore_distante = self._e\n",
    "\n",
    "        limites = [[limites[0][0] ,limites[0][1]], [self._y, limites[1][1]]]\n",
    "\n",
    "\n",
    "      else:\n",
    "        subarvore_proxima = self._e\n",
    "        subarvore_distante = self._d\n",
    "        limites = [[limites[0][0] ,limites[0][1]],[limites[1][0], self._y]]\n",
    "\n",
    "       #subarvore_proxima = self._d if x >= self._x else self._e\n",
    "      #subarvore_distante = self._e if x >= self._x else self._d\n",
    "\n",
    "       # Verifica a interseção entre o círculo centrado no ponto alvo e a subárvore próxima\n",
    "       #Essa parte não entendi muito bem, é pra verificar se há interssecção entre o circulo e o retanfulo formado pela arvore?\n",
    "\n",
    "    #Testo o circulo com distancia² com a subarvore proxima\n",
    "\n",
    "\n",
    "    if subarvore_proxima is not None:\n",
    "      if horizontal:\n",
    "        if int_circ_rect(limites[0][0], limites[0][1], limites[1][0], limites[1][1], x, y, distancia_quadrado):\n",
    "          subarvore_proxima._busca_mais_proximo_rec(False ,x, y, xp, yp, limites, distancia_quadrado)\n",
    "      else:\n",
    "        if int_circ_rect(limites[0][0], limites[0][1], limites[1][0], limites[1][1], x, y, distancia_quadrado):\n",
    "          subarvore_proxima._busca_mais_proximo_rec(True ,x, y, xp, yp, limites, distancia_quadrado)\n",
    "\n",
    "      # Verifica a interseção entre o círculo centrado no ponto alvo e a subárvore distante\n",
    "    if subarvore_distante is not None:\n",
    "      if horizontal:\n",
    "        if int_circ_rect(limites[0][0], limites[0][1], limites[1][0], limites[1][1], x, y, distancia_quadrado):\n",
    "          subarvore_distante._busca_mais_proximo_rec(False ,x, y, xp, yp, limites, distancia_quadrado)\n",
    "      else:\n",
    "        if int_circ_rect(limites[0][0], limites[0][1], limites[1][0], limites[1][1], x, y, distancia_quadrado):\n",
    "          subarvore_distante._busca_mais_proximo_rec(True ,x, y, xp, yp, limites, distancia_quadrado)\n",
    "\n",
    "    return((xp,yp), distancia_quadrado)\n",
    "\n",
    "  def _procuraRect_rec(self, horizontal, rect, func, X_inf_lim = -math.inf, X_sup_lim = math.inf, Y_inf_lim = -math.inf, Y_sup_lim = math.inf):\n",
    "\n",
    "    if ponto_ContidoRect(rect[0][0], rect[0][1], rect[1][0], rect[1][1], self._x, self._y):\n",
    "      func(self._x, self._y)\n",
    "\n",
    "    if horizontal:\n",
    "      if self._e:\n",
    "        if ha_interseccao(X_inf_lim, self._x, Y_inf_lim, self._e._y,rect[0][0], rect[0][1], rect[1][0], rect[1][1]):\n",
    "          Y_sup_lim = self._e._y\n",
    "          X_sup_lim = self._x\n",
    "          horizontal = False\n",
    "          self._e._procuraRect_rec(horizontal, rect, func, X_inf_lim, X_sup_lim, Y_inf_lim, Y_sup_lim)\n",
    "\n",
    "      if self._d:\n",
    "        if ha_interseccao(self._x, X_sup_lim, self._d._y, Y_sup_lim, rect[0][0], rect[0][1], rect[1][0], rect[1][1]):\n",
    "          X_inf_lim = self._x\n",
    "          Y_inf_lim = self._d._y\n",
    "          horizontal = False\n",
    "          self._d._procuraRect_rec(horizontal, rect, func, X_inf_lim, X_sup_lim, Y_inf_lim, Y_sup_lim)\n",
    "\n",
    "\n",
    "    else:\n",
    "      if self._e:\n",
    "        if ha_interseccao(self._e._x, X_sup_lim, Y_inf_lim, self._y,rect[0][0], rect[0][1], rect[1][0], rect[1][1]):\n",
    "          Y_sup_lim = self._y\n",
    "          X_sup_lim = self._e._x\n",
    "          horizontal = True\n",
    "          self._e._procuraRect_rec(horizontal, rect, func, X_inf_lim, X_sup_lim, Y_inf_lim, Y_sup_lim)\n",
    "\n",
    "      if self._d:\n",
    "        if ha_interseccao(self._d._x, X_sup_lim, self._y, Y_sup_lim, rect[0][0], rect[0][1], rect[1][0], rect[1][1]):\n",
    "          X_inf_lim = self._d._x\n",
    "          Y_inf_lim = self._y\n",
    "          horizontal = True\n",
    "          self._d._procuraRect_rec(horizontal, rect, func, X_inf_lim, X_sup_lim, Y_inf_lim, Y_sup_lim)\n",
    "\n",
    "\n",
    "  def procura_rect(self, minx, maxx, miny, maxy, func):\n",
    "    rect = [[minx, maxx],[miny, maxy]]\n",
    "    self._procuraRect_rec(True, rect, func)\n",
    "\n",
    "\n",
    "  def _p_avr_prof_ant_rec(self, horizontal, minx, maxx, miny, maxy, func):\n",
    "    func(horizontal, self._x, self._y, minx, maxx, miny, maxy)\n",
    "    if horizontal:\n",
    "      if self._e:\n",
    "        self._e._p_avr_prof_ant_rec(False, minx, self._x, miny, maxy, func)\n",
    "      if self._d:\n",
    "        self._d._p_avr_prof_ant_rec(False, self._x, maxx, miny, maxy, func)\n",
    "    else:\n",
    "      if self._e:\n",
    "        self._e._p_avr_prof_ant_rec(True, minx, maxx, miny, self._y, func)\n",
    "      if self._d:\n",
    "        self._d._p_avr_prof_ant_rec(True, minx, maxx, self._y, maxy, func)\n",
    "\n",
    "  \"\"\" Percore a árvore em profundidade pré-ordem (pai antes dos filhos)\n",
    "  Para cada nó invoca func(horizontal, x, y, minx, maxx, miny, maxy) onde\n",
    "  horizontal é verdadeiro se a separação das sub-árvores ocorre no eixo, x, falso caso contrário\n",
    "x e y são as coordenadas do nó e minx, maxx, miny, maxy são os limites do nó\"\"\"\n",
    "  def percorre_arvore_profundidade_anterior(self, func):\n",
    "    return self._p_avr_prof_ant_rec(True, -math.inf, math.inf, -math.inf, math.inf, func)"
   ]
  },
  {
   "cell_type": "markdown",
   "id": "227c72a4",
   "metadata": {
    "id": "227c72a4"
   },
   "source": [
    "## Exemplo:"
   ]
  },
  {
   "cell_type": "code",
   "execution_count": 3,
   "id": "2127bd1a",
   "metadata": {
    "id": "2127bd1a"
   },
   "outputs": [],
   "source": [
    "def mostra_arvore(ax, raiz):\n",
    "  def desenha_no(horizontal, x, y, minx, maxx, miny, maxy):\n",
    "    maxx = min(maxx,10)\n",
    "    maxy = min(maxy,10)\n",
    "    minx = max(minx,-10)\n",
    "    miny = max(miny,-10)\n",
    "    if horizontal:\n",
    "      ax.plot([x, x], [miny, maxy], color='r', ls='--', lw=0.5)\n",
    "    else:\n",
    "      ax.plot([minx, maxx], [y, y], color='b', ls='--', lw=0.5)\n",
    "    ax.plot(x, y, ls=None, marker='o', color='k')\n",
    "  raiz.percorre_arvore_profundidade_anterior(desenha_no)"
   ]
  },
  {
   "cell_type": "code",
   "execution_count": 4,
   "id": "26448436",
   "metadata": {
    "colab": {
     "base_uri": "https://localhost:8080/",
     "height": 430
    },
    "id": "26448436",
    "outputId": "b2ca774c-e9f5-40b2-c9f9-ef99239a580c"
   },
   "outputs": [
    {
     "data": {
      "image/png": "[encoded data removed]",
      "text/plain": [
       "<Figure size 640x480 with 1 Axes>"
      ]
     },
     "metadata": {},
     "output_type": "display_data"
    }
   ],
   "source": [
    "nos = [(2,2),\\\n",
    "       (0,5),\\\n",
    "       (3,0),\\\n",
    "       (1,2),\\\n",
    "       (-2,6),\\\n",
    "       (3,-1),\\\n",
    "       (-1,4),\\\n",
    "       (-3,6),\\\n",
    "       (0,7)]\n",
    "\n",
    "t = NoArvore2D(*nos[0])\n",
    "for i in range(1,len(nos)):\n",
    "  t.insere(*nos[i])\n",
    "\n",
    "fig, ax = plt.subplots()\n",
    "mostra_arvore(ax, t)"
   ]
  },
  {
   "cell_type": "markdown",
   "id": "proud-trail",
   "metadata": {
    "id": "proud-trail"
   },
   "source": [
    "## Tarefa 1"
   ]
  },
  {
   "cell_type": "code",
   "execution_count": 5,
   "id": "Y1_KRvFUQ-Hu",
   "metadata": {
    "colab": {
     "base_uri": "https://localhost:8080/"
    },
    "id": "Y1_KRvFUQ-Hu",
    "outputId": "d7faf085-4e73-4e50-d267-c8059178d5ea"
   },
   "outputs": [
    {
     "data": {
      "text/plain": [
       "((2, 2), 13)"
      ]
     },
     "execution_count": 5,
     "metadata": {},
     "output_type": "execute_result"
    }
   ],
   "source": [
    "t.busca_mais_proximo(4,5)"
   ]
  },
  {
   "cell_type": "code",
   "execution_count": 6,
   "id": "naughty-cedar",
   "metadata": {
    "colab": {
     "base_uri": "https://localhost:8080/"
    },
    "id": "naughty-cedar",
    "outputId": "72f12d5d-45d1-4ca1-f51b-dc915ea3e12a"
   },
   "outputs": [
    {
     "name": "stdout",
     "output_type": "stream",
     "text": [
      "True\n",
      "False\n",
      "False\n",
      "False\n",
      "True\n",
      "True\n",
      "True\n",
      "True\n"
     ]
    }
   ],
   "source": [
    "\n",
    "t1 = ha_interseccao(-3,1,0,2,1,3,1,3)\n",
    "t2 = ha_interseccao(-2,-1,-2,-1,1,2,1,2)\n",
    "t3 = ha_interseccao(-3,3,-1,1,-1,1,2,3)\n",
    "t4 = ha_interseccao(-3,1,-2,2,2,3,0,3)\n",
    "t5 = ha_interseccao(0,1,0,1,1,2,1,2)\n",
    "t6 = ha_interseccao(-4,4,-2,2,-1,1,-1,1)\n",
    "t7 = ha_interseccao(-4,4,-2,2,-2,2,-4,4)\n",
    "t8 = ha_interseccao(-2,1,-2,1,-1,2,-1,2)\n",
    "\n",
    "\n",
    "print(t1)\n",
    "print(t2)\n",
    "print(t3)\n",
    "print(t4)\n",
    "print(t5)\n",
    "print(t6)\n",
    "print(t7)\n",
    "print(t8)"
   ]
  },
  {
   "cell_type": "markdown",
   "id": "naughty-observer",
   "metadata": {
    "id": "naughty-observer"
   },
   "source": [
    "## Tarefa 2"
   ]
  },
  {
   "cell_type": "code",
   "execution_count": 7,
   "id": "bronze-crystal",
   "metadata": {
    "colab": {
     "base_uri": "https://localhost:8080/"
    },
    "id": "bronze-crystal",
    "outputId": "4b812ec4-98bb-4518-9a07-ade102d8b843"
   },
   "outputs": [
    {
     "name": "stdout",
     "output_type": "stream",
     "text": [
      "Ponto encontrado: (2, 2)\n",
      "Ponto encontrado: (1, 2)\n"
     ]
    }
   ],
   "source": [
    "t.procura_rect(0,3,1,3, imprimePonto)"
   ]
  },
  {
   "cell_type": "markdown",
   "id": "suitable-combine",
   "metadata": {
    "id": "suitable-combine"
   },
   "source": [
    "## Tarefa 3"
   ]
  },
  {
   "cell_type": "code",
   "execution_count": 8,
   "id": "backed-accuracy",
   "metadata": {
    "colab": {
     "base_uri": "https://localhost:8080/"
    },
    "id": "backed-accuracy",
    "outputId": "d6900d7a-78d0-4d13-9448-2b3558f13d07"
   },
   "outputs": [
    {
     "name": "stdout",
     "output_type": "stream",
     "text": [
      "True\n",
      "False\n",
      "True\n",
      "True\n",
      "True\n",
      "False\n",
      "False\n",
      "False\n"
     ]
    }
   ],
   "source": [
    "t1 = int_circ_rect(-3, 1, 0, 2, 0, -1, 4)\n",
    "t2 = int_circ_rect(0, 1, 0, 1, 2, 2, 2)\n",
    "t3 = int_circ_rect(-5, 5, 0, 1, 0, 4, 25)\n",
    "t4 = int_circ_rect(-5, 5, 0, 5, 0, 2, 1)\n",
    "t5 = int_circ_rect(-1, 1, -1, 1, 0, 0, 9)\n",
    "t6 = int_circ_rect(-3, -1, -3, -1, 2, 2, 16)\n",
    "t7 = int_circ_rect(3, 4, -1, 1, 1, 0, 1)\n",
    "t8 = int_circ_rect(-2, 2, -4, -3, -1, 0, 1)\n",
    "\n",
    "print(t1)\n",
    "print(t2)\n",
    "print(t3)\n",
    "print(t4)\n",
    "print(t5)\n",
    "print(t6)\n",
    "print(t7)\n",
    "print(t8)"
   ]
  },
  {
   "cell_type": "markdown",
   "id": "graphic-prize",
   "metadata": {
    "id": "graphic-prize"
   },
   "source": [
    "## Tarefa 4"
   ]
  },
  {
   "cell_type": "code",
   "execution_count": 9,
   "id": "reduced-scheme",
   "metadata": {
    "colab": {
     "base_uri": "https://localhost:8080/",
     "height": 430
    },
    "id": "reduced-scheme",
    "outputId": "b1ef9906-7344-4d78-95de-91a74a21d642"
   },
   "outputs": [
    {
     "data": {
      "image/png": "[encoded data removed]",
      "text/plain": [
       "<Figure size 640x480 with 1 Axes>"
      ]
     },
     "metadata": {},
     "output_type": "display_data"
    }
   ],
   "source": [
    "nos = [(0,0),\\\n",
    "       (-3,2),\\\n",
    "       (3,3),\\\n",
    "       (-3,0),\\\n",
    "       (-6,5),\\\n",
    "       (1,3),\\\n",
    "       (2,5),\\\n",
    "       (-7,3),\\\n",
    "       (2,-1),\\\n",
    "       (3,0)]\n",
    "\n",
    "k = NoArvore2D(*nos[0])\n",
    "for i in range(1,len(nos)):\n",
    "  k.insere(*nos[i])\n",
    "\n",
    "fig, ax = plt.subplots()\n",
    "mostra_arvore(ax, k)"
   ]
  },
  {
   "cell_type": "code",
   "execution_count": 10,
   "id": "IE2CnvPiojrU",
   "metadata": {
    "colab": {
     "base_uri": "https://localhost:8080/"
    },
    "id": "IE2CnvPiojrU",
    "outputId": "034e5cb9-f1b2-4931-bac3-4146593fde0d"
   },
   "outputs": [
    {
     "data": {
      "text/plain": [
       "((0, 0), 17)"
      ]
     },
     "execution_count": 10,
     "metadata": {},
     "output_type": "execute_result"
    }
   ],
   "source": [
    "k.busca_mais_proximo(-1,4)"
   ]
  },
  {
   "cell_type": "code",
   "execution_count": null,
   "id": "ZiQwnGfETEqu",
   "metadata": {
    "id": "ZiQwnGfETEqu"
   },
   "outputs": [],
   "source": []
  }
 ],
 "metadata": {
  "colab": {
   "provenance": []
  },
  "kernelspec": {
   "display_name": "Python 3 (ipykernel)",
   "language": "python",
   "name": "python3"
  },
  "language_info": {
   "codemirror_mode": {
    "name": "ipython",
    "version": 3
   },
   "file_extension": ".py",
   "mimetype": "text/x-python",
   "name": "python",
   "nbconvert_exporter": "python",
   "pygments_lexer": "ipython3",
   "version": "3.10.12"
  }
 },
 "nbformat": 4,
 "nbformat_minor": 5
}
