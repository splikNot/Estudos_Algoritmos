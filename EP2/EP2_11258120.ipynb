{
 "cells": [
  {
   "cell_type": "code",
   "execution_count": 1,
   "metadata": {
    "id": "BolEeUPvlPAO"
   },
   "outputs": [],
   "source": [
    "import pandas as pd\n",
    "import numpy as np\n",
    "from heapq import heappush, heappop"
   ]
  },
  {
   "cell_type": "markdown",
   "metadata": {
    "id": "nQCdjSv7kdwf"
   },
   "source": [
    "# 5 Para você fazer\n",
    "1. Utilizando a IDE Jupyter Notebook, projete e implemente um algoritmo de codificação e de decodificação de\n",
    "Huffman segundo as diretivas apresentadas acima.\n",
    "2. Implemente um programa principal onde o usuário pode escolher entre a operação de codificação ou de decodi-\n",
    "ficação além do nome dos arquivos.\n",
    "3. Utilizar os seguintes testes:\n",
    "(a) ABRACADABRA!\n",
    "(b) it was the best of times it was the worst of times\n",
    "(c) arquivo Alice1.txt contendo uma extração do primeiro capítulo de ’Alice in Wonderland’.\n",
    "\n",
    "4. O arquivo Jupyter Notebook com a sua solução deve ser submetido no sistema Moodle."
   ]
  },
  {
   "cell_type": "code",
   "execution_count": 2,
   "metadata": {
    "id": "HOCpLQSy6UZ5"
   },
   "outputs": [],
   "source": [
    "# Funcao para auxiliar\n",
    "\n",
    "def ascToBinary(letter):\n",
    "  x = ord(str(letter))\n",
    "\n",
    "  binary = bin(x)\n",
    " \n",
    "  return binary\n"
   ]
  },
  {
   "cell_type": "code",
   "execution_count": 3,
   "metadata": {
    "colab": {
     "base_uri": "https://localhost:8080/",
     "height": 54
    },
    "id": "F4-jYcqSAFId",
    "outputId": "8485d79d-c4f9-4381-8746-490d46ffa6af"
   },
   "outputs": [
    {
     "name": "stdout",
     "output_type": "stream",
     "text": [
      "120\n"
     ]
    },
    {
     "data": {
      "text/plain": [
       "'x'"
      ]
     },
     "execution_count": 3,
     "metadata": {},
     "output_type": "execute_result"
    }
   ],
   "source": [
    "x = ascToBinary('x')\n",
    "a = int(x,2)\n",
    "\n",
    "#array = [x]\n",
    "\n",
    "#trans = bytearray(array)\n",
    "print(a)\n",
    "chr(a)\n"
   ]
  },
  {
   "cell_type": "code",
   "execution_count": 4,
   "metadata": {
    "id": "k8KXrIW0dizA"
   },
   "outputs": [],
   "source": [
    "\n",
    "### Exemplo do código da estrutura ARVORE\n",
    "\n",
    "\n",
    "class Node: # Classe que define um no da arvore binaria\n",
    "  def __init__(self, car=None,freq=None,left=None,right=None):\n",
    "    self.caracter = car # caracter caso seja um no terminal\n",
    "    self.frequencia = freq # numero de ocorrencias do caracter\n",
    "    self.left = left # ponteiro filho da esquerda\n",
    "    self.right = right # ponteiro filho da direita\n",
    "    self.bin = '' #Guarda um binário para auxiliar as direções quando andar pela arvore\n",
    "    \n",
    "  def __str__(self):\n",
    "                            # Utilizado para impressao de um\n",
    "    if (self.caracter is None): # objeto tipo Node\n",
    "      return('0') # No nao terminal\n",
    "    else:\n",
    "      return str('1') # No terminal (leaf node)\n",
    "\n",
    "  def __lt__(self,other):\n",
    "    if (self.frequencia <= other.frequencia):\n",
    "      return(True)\n",
    "    else:\n",
    "      return(False)\n",
    "\n",
    "\n",
    "\n",
    "class BST:  # Classe que define uma arvore de busca binaria\n",
    "  def __init__(self,root=None): # BST (Binary Search Tree)\n",
    "    self.root = root\n",
    "  def devolveroot(self):\n",
    "    return self.root\n",
    "\n",
    "  def mapping(self, node, dic, val = ''):  #Precisa de um dicionario inicial para ir armazenando os caminhos até os nós terminais\n",
    "    # huffman code for current node\n",
    "    track = val + str(node.bin)\n",
    "    \n",
    "    if(node is not None): # p deve existir\n",
    "                      # ou seja o no deve existi\n",
    "      if (node.caracter is not None): # No terminal\n",
    "        dic[str(node.caracter)] = track\n",
    "\n",
    "      else:\n",
    "        if(node.left):\n",
    "          self.mapping(node.left, dic, track)\n",
    "        if(node.right):\n",
    "          self.mapping(node.right, dic, track)\n",
    "\n",
    "\n",
    "  def preordertraverse(self,p,lista):\n",
    "    if(p is not None):\n",
    "      if (p.caracter is not None):\n",
    "        lista.append([1 , str(p.caracter)])\n",
    "\n",
    "\n",
    "      else:\n",
    "        lista.append([0, None])\n",
    "        if (p.left):\n",
    "          self.preordertraverse(p.left,lista)\n",
    "        if (p.right):\n",
    "          self.preordertraverse(p.right,lista)\n",
    "\n",
    "                \n",
    " "
   ]
  },
  {
   "cell_type": "code",
   "execution_count": 5,
   "metadata": {
    "id": "e0jm2E9-l6_u"
   },
   "outputs": [],
   "source": [
    "# Criar tabela onde cade linha está associada a um caracter e o numero de ocorrencias \"alpha\"\n",
    "def alphaTab (txt):\n",
    "  dic = {}\n",
    "  \n",
    "  for char in (txt):\n",
    "    if str(char) == ' ':\n",
    "      if str('SP') in dic:\n",
    "        dic['SP'] += 1\n",
    "      else:\n",
    "        dic['SP'] = 1\n",
    "\n",
    "    elif str(char) in dic:\n",
    "      dic[str(char)] += 1\n",
    "\n",
    "    else:\n",
    "      dic[str(char)] = 1\n",
    "\n",
    "  return dic\n"
   ]
  },
  {
   "cell_type": "code",
   "execution_count": 6,
   "metadata": {
    "id": "io1Q4JWXZiMi"
   },
   "outputs": [],
   "source": [
    "#Criação de nós para cada um dos caracteres\n",
    "# Inserção do nó numa fila de prioridades\n",
    "  #print(filaPrioridades)\n",
    "\n",
    "#while len(filaPrioridades) is not 0:\n",
    "#  x = heappop(filaPrioridades)\n",
    "\n",
    "#  print('frequencia =' ,x[0], '-> caracter = ',x[1].caracter)\n"
   ]
  },
  {
   "cell_type": "code",
   "execution_count": 7,
   "metadata": {
    "id": "_oNnt0CFLMI5"
   },
   "outputs": [],
   "source": [
    "#Função para construir a arvore com os nós obtidos da fila de prioridade\n",
    "def constructBST(Fila):\n",
    "\n",
    "  while (len(Fila) >1):\n",
    "    left = heappop(Fila)\n",
    "    right = heappop(Fila)\n",
    "\n",
    "    left[1].bin = '0'\n",
    "    right[1].bin = '1'\n",
    "\n",
    "\n",
    "    galho = Node(None, left[0] + right[0], left[1], right[1])\n",
    "    heappush(Fila, (galho.frequencia, galho))\n",
    "\n",
    "\n",
    "  root = BST(Fila[0][1])\n",
    "  \n",
    "  return root\n"
   ]
  },
  {
   "cell_type": "code",
   "execution_count": 8,
   "metadata": {
    "id": "d0anqLM9xJFa"
   },
   "outputs": [],
   "source": [
    "#Tabela de codificação\n",
    "def codeTab(Tree):\n",
    "  root = Tree.devolveroot()\n",
    "  dic = {}\n",
    "  Tree.mapping(root, dic)\n",
    "\n",
    "  return dic\n"
   ]
  },
  {
   "cell_type": "code",
   "execution_count": 9,
   "metadata": {
    "id": "Y8qiYoYLhsfv"
   },
   "outputs": [],
   "source": [
    "#Funcão que transforma a mensagem em código\n",
    "def code(dic, txt):\n",
    "  message = ''\n",
    "  if type(txt) == str:\n",
    "    for i in txt:\n",
    "      if i == ' ':\n",
    "        message = message + str(dic['SP'])\n",
    "      else:\n",
    "        message = message + str(dic[str(i)])\n",
    "\n",
    "  return str(message)"
   ]
  },
  {
   "cell_type": "code",
   "execution_count": 10,
   "metadata": {
    "id": "VnuD12gvesu8"
   },
   "outputs": [],
   "source": [
    "# Geração da árvore escrita em forma linear\n",
    "\n",
    "def linearTree(tree):\n",
    "  root = tree.devolveroot()\n",
    "  lista = []\n",
    "  tree.preordertraverse(root,lista)\n",
    "  arr = ''\n",
    "  for i in lista:\n",
    "    if i[0] == 1:\n",
    "      if i[1] == 'SP':\n",
    "        temp = ascToBinary(' ')\n",
    "      else:\n",
    "        temp = ascToBinary(i[1])\n",
    "      i[1] = temp[2:]\n",
    "\n",
    "  for i in lista:\n",
    "    if i[1] != None:\n",
    "      temp = str(i[0]) + str(i[1])\n",
    "      arr = arr + temp\n",
    "    else:\n",
    "      arr = arr + str(i[0])\n",
    "\n",
    "  return str(arr)\n",
    "\n"
   ]
  },
  {
   "cell_type": "code",
   "execution_count": 11,
   "metadata": {
    "id": "pR2UGI9OqiZu"
   },
   "outputs": [],
   "source": [
    "def criaBytes(binary):\n",
    "  lenBin = len(binary)\n",
    "\n",
    "  if lenBin%8 == 0:\n",
    "    temp = lenBin//8\n",
    "\n",
    "  else:\n",
    "    temp = lenBin//8 + 1\n",
    "    dif = 8 - lenBin%8\n",
    "    binary = binary + '0'*dif\n",
    "\n",
    "\n",
    "  listaBytes = []\n",
    "  inicio = 0\n",
    "  final = 8\n",
    "  for i in range(temp):\n",
    "    \n",
    "\n",
    "    byte = binary[inicio:final]\n",
    "    listaBytes.append(byte)\n",
    "\n",
    "    inicio += 8\n",
    "    final += 8\n",
    "\n",
    "  return listaBytes\n"
   ]
  },
  {
   "cell_type": "code",
   "execution_count": 12,
   "metadata": {
    "id": "YHudzpqVgMkh"
   },
   "outputs": [],
   "source": [
    "#Gerar o arquivo .huf\n",
    "def codeHUF(name,codigo, arvore, nc):\n",
    "  array = []\n",
    "  huf = open( str(name) +'.huf', 'ab')\n",
    "\n",
    "   #Numero de caracteres = Numero de nós na arvore\n",
    "  for i in range(len(arvore)):\n",
    "    if arvore[i] == '1':\n",
    "      nc += 1\n",
    "  \n",
    "  Nc = str(nc)\n",
    "  if len(Nc) < 3:\n",
    "    dif = 3 - len(Nc)\n",
    "    temp = '0'*dif\n",
    "\n",
    "    Nc = temp + Nc\n",
    "\n",
    "    #Ainda precisa saber como gerar um byte\n",
    "  print(Nc)\n",
    "  n1 = ord(Nc[0])\n",
    "  n2 = ord(Nc[1])\n",
    "  n3 = ord(Nc[2])\n",
    "\n",
    "  array.append(n1)\n",
    "  array.append(n2)\n",
    "  array.append(n3)\n",
    "  \n",
    "\n",
    "  nb = len(codigo)\n",
    "  Nb = str(nb)\n",
    "  print(Nb)\n",
    "  if len(Nb) < 4:\n",
    "    dif = 4 - len(Nb)\n",
    "    Nb = '0'*dif + Nb\n",
    "\n",
    "  n1 = ord(Nb[0])\n",
    "  n2 = ord(Nb[1])\n",
    "  n3 = ord(Nb[2])\n",
    "  n4 = ord(Nb[3])\n",
    "\n",
    "  array.append(n1)\n",
    "  array.append(n2)\n",
    "  array.append(n3)\n",
    "  array.append(n4)\n",
    "  print(array)\n",
    "  bytesArvore = criaBytes(arvore) #bytesArvore\n",
    "  \n",
    "  for i in bytesArvore:\n",
    "    temp = int(i,2)\n",
    "    array.append(temp)\n",
    "    print(array)\n",
    "\n",
    "\n",
    "\n",
    "\n",
    "  \n",
    "  bytesCodigo = criaBytes(codigo) #Bytes do Código\n",
    "  for i in bytesCodigo:\n",
    "    temp = int(i,2)\n",
    "    array.append(int(i,2))\n",
    "    print(array)\n",
    "  \n",
    "  binaryFormat = bytearray(array)\n",
    "\n",
    "  huf.write(binaryFormat)\n",
    "  huf.flush()\n",
    "  huf.close()"
   ]
  },
  {
   "cell_type": "code",
   "execution_count": 17,
   "metadata": {
    "id": "mwwjJpHae9X1"
   },
   "outputs": [],
   "source": [
    "#def decodeHUF(nomeArquivo):\n",
    "\n",
    "  #arquivo = open(nomeArquivo,'rb')\n",
    "  #for byte in arquivo:\n",
    "\n"
   ]
  },
  {
   "cell_type": "code",
   "execution_count": 14,
   "metadata": {
    "id": "nUHbFad4syiY"
   },
   "outputs": [],
   "source": [
    "def main():\n",
    "  mode = int(input('Aperte 1 para codificar e 2 para decodificar (Aperte 0 para sair): '))\n",
    "\n",
    "  if mode == 1:\n",
    "\n",
    "    name = input('Insira o nome do arquivo:')\n",
    "\n",
    "    txt = input('Insira o texto a ser codificado')\n",
    "\n",
    "    listaOcorrencia = alphaTab(txt)\n",
    "\n",
    "    filaPrioridades = [] \n",
    "\n",
    "  for i in listaOcorrencia:\n",
    "    temp = i\n",
    "\n",
    "    No = Node(str(i), listaOcorrencia[i]) \n",
    "\n",
    "\n",
    "    heappush(filaPrioridades, (No.frequencia, No))\n",
    "\n",
    "\n",
    "  tree = constructBST(filaPrioridades)\n",
    "\n",
    "  codes = codeTab(tree)\n",
    "\n",
    "  msn = code(codes, txt)\n",
    "  nc = len(listaOcorrencia)\n",
    "  linear = linearTree(tree)\n",
    "  arquivo = codeHUF(name,msn,linear,nc)\n",
    "\n",
    "  return arquivo\n"
   ]
  },
  {
   "cell_type": "code",
   "execution_count": 15,
   "metadata": {
    "id": "ZPHKzn3s1pX9"
   },
   "outputs": [
    {
     "name": "stdin",
     "output_type": "stream",
     "text": [
      "Aperte 1 para codificar e 2 para decodificar (Aperte 0 para sair):  1\n",
      "Insira o nome do arquivo: aliceHUF\n",
      "Insira o texto a ser codificado Alice.txt\n"
     ]
    },
    {
     "name": "stdout",
     "output_type": "stream",
     "text": [
      "046\n",
      "27\n",
      "[48, 52, 54, 48, 48, 50, 55]\n",
      "[48, 52, 54, 48, 48, 50, 55, 61]\n",
      "[48, 52, 54, 48, 48, 50, 55, 61, 29]\n",
      "[48, 52, 54, 48, 48, 50, 55, 61, 29, 157]\n",
      "[48, 52, 54, 48, 48, 50, 55, 61, 29, 157, 39]\n",
      "[48, 52, 54, 48, 48, 50, 55, 61, 29, 157, 39, 198]\n",
      "[48, 52, 54, 48, 48, 50, 55, 61, 29, 157, 39, 198, 11]\n",
      "[48, 52, 54, 48, 48, 50, 55, 61, 29, 157, 39, 198, 11, 149]\n",
      "[48, 52, 54, 48, 48, 50, 55, 61, 29, 157, 39, 198, 11, 149, 187]\n",
      "[48, 52, 54, 48, 48, 50, 55, 61, 29, 157, 39, 198, 11, 149, 187, 140]\n",
      "[48, 52, 54, 48, 48, 50, 55, 61, 29, 157, 39, 198, 11, 149, 187, 140, 169]\n",
      "[48, 52, 54, 48, 48, 50, 55, 61, 29, 157, 39, 198, 11, 149, 187, 140, 169, 254]\n",
      "[48, 52, 54, 48, 48, 50, 55, 61, 29, 157, 39, 198, 11, 149, 187, 140, 169, 254, 226]\n",
      "[48, 52, 54, 48, 48, 50, 55, 61, 29, 157, 39, 198, 11, 149, 187, 140, 169, 254, 226, 0]\n"
     ]
    }
   ],
   "source": [
    "main()"
   ]
  }
 ],
 "metadata": {
  "colab": {
   "collapsed_sections": [],
   "name": "EP - 11258120.ipynb",
   "provenance": []
  },
  "kernelspec": {
   "display_name": "Python 3 (ipykernel)",
   "language": "python",
   "name": "python3"
  },
  "language_info": {
   "codemirror_mode": {
    "name": "ipython",
    "version": 3
   },
   "file_extension": ".py",
   "mimetype": "text/x-python",
   "name": "python",
   "nbconvert_exporter": "python",
   "pygments_lexer": "ipython3",
   "version": "3.10.12"
  }
 },
 "nbformat": 4,
 "nbformat_minor": 4
}
